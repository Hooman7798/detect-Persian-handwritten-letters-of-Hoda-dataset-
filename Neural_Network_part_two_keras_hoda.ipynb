{
  "nbformat": 4,
  "nbformat_minor": 0,
  "metadata": {
    "colab": {
      "provenance": []
    },
    "kernelspec": {
      "name": "python3",
      "display_name": "Python 3"
    },
    "language_info": {
      "name": "python"
    }
  },
  "cells": [
    {
      "cell_type": "code",
      "source": [
        "from google.colab import drive\n",
        "drive.mount('/content/drive')"
      ],
      "metadata": {
        "colab": {
          "base_uri": "https://localhost:8080/"
        },
        "id": "a56vwSnavoWf",
        "outputId": "34bd4975-4d3a-4042-b62e-d213e974d013"
      },
      "execution_count": null,
      "outputs": [
        {
          "output_type": "stream",
          "name": "stdout",
          "text": [
            "Mounted at /content/drive\n"
          ]
        }
      ]
    },
    {
      "cell_type": "code",
      "source": [
        "from keras.models import Sequential\n",
        "from keras.layers import Dense\n",
        "from keras.layers import Dropout\n",
        "from keras.utils import np_utils\n",
        "from sklearn.metrics import classification_report\n",
        "from HodaDatasetReader import read_hoda_dataset, read_hoda_cdb\n",
        "import matplotlib.pyplot as plt\n",
        "import tensorflow as tf\n",
        "import tensorflow as tf\n",
        "from tensorflow.keras.models import Sequential\n",
        "from tensorflow.keras.layers import Dense, Conv2D, Dropout, Flatten, MaxPooling2D\n",
        "from sklearn.metrics import classification_report\n",
        "import random\n",
        "import numpy as np"
      ],
      "metadata": {
        "id": "trxTOHyUHTl7"
      },
      "execution_count": null,
      "outputs": []
    },
    {
      "cell_type": "code",
      "source": [
        "print('################################################################################')\n",
        "print()\n",
        "\n",
        "print('Reading Train 60000.cdb ...')\n",
        "train_images, train_labels = read_hoda_cdb('Train 60000.cdb')\n",
        "\n",
        "print('Reading Test 20000.cdb ...')\n",
        "test_images, test_labels = read_hoda_cdb('Test 20000.cdb')\n",
        "\n",
        "# ******************************************************************************\n",
        "\n",
        "print('type(train_images): ', type(train_images))\n",
        "print('len(train_images): ', len(train_images))\n",
        "print()\n",
        "\n",
        "print('type(train_labels): ', type(train_labels))\n",
        "print('len(train_labels): ', len(train_labels))\n",
        "print()\n"
      ],
      "metadata": {
        "colab": {
          "base_uri": "https://localhost:8080/"
        },
        "id": "QtesxJ_EuPRj",
        "outputId": "56d231cb-30d7-426d-8fd2-5d5eb20e3b86"
      },
      "execution_count": null,
      "outputs": [
        {
          "output_type": "stream",
          "name": "stdout",
          "text": [
            "################################################################################\n",
            "\n",
            "Reading Train 60000.cdb ...\n",
            "Reading Test 20000.cdb ...\n",
            "type(train_images):  <class 'list'>\n",
            "len(train_images):  60000\n",
            "\n",
            "type(train_labels):  <class 'list'>\n",
            "len(train_labels):  60000\n",
            "\n"
          ]
        }
      ]
    },
    {
      "cell_type": "code",
      "source": [
        "fig = plt.figure(figsize=(15, 4))\n",
        "for i in range(4):\n",
        "\n",
        "    print('----------------------------------------')\n",
        "    print()\n",
        "\n",
        "    print('type(train_images[', i, ']):', type(train_images[i]))\n",
        "    print('train_images[', i, '].dtype:', train_images[i].dtype)\n",
        "    print('train_images[', i, '].min():', train_images[i].min())\n",
        "    print('train_images[', i, '].max():', train_images[i].max())\n",
        "    print('train_images[', i, '].shape = (HEIGHT, WIDTH):', train_images[i].shape)\n",
        "    print()\n",
        "\n",
        "    print('type(train_labels[', i, ']):', type(train_labels[i]))\n",
        "    print('train_labels[', i, ']:', train_labels[i])\n",
        "    print()\n",
        "\n",
        "    fig.add_subplot(1, 4, i + 1)\n",
        "    plt.title('train_labels[' + str(i) + '] = ' + str(train_labels[i]))\n",
        "    plt.imshow(train_images[i], cmap='gray')\n",
        "\n",
        "plt.show()"
      ],
      "metadata": {
        "colab": {
          "base_uri": "https://localhost:8080/",
          "height": 1000
        },
        "id": "5f000_ajuZZ2",
        "outputId": "2ebff461-56a5-4c45-f5d1-d4cf5151dba6"
      },
      "execution_count": null,
      "outputs": [
        {
          "output_type": "stream",
          "name": "stdout",
          "text": [
            "----------------------------------------\n",
            "\n",
            "type(train_images[ 0 ]): <class 'numpy.ndarray'>\n",
            "train_images[ 0 ].dtype: uint8\n",
            "train_images[ 0 ].min(): 0\n",
            "train_images[ 0 ].max(): 255\n",
            "train_images[ 0 ].shape = (HEIGHT, WIDTH): (27, 20)\n",
            "\n",
            "type(train_labels[ 0 ]): <class 'int'>\n",
            "train_labels[ 0 ]: 6\n",
            "\n",
            "----------------------------------------\n",
            "\n",
            "type(train_images[ 1 ]): <class 'numpy.ndarray'>\n",
            "train_images[ 1 ].dtype: uint8\n",
            "train_images[ 1 ].min(): 0\n",
            "train_images[ 1 ].max(): 255\n",
            "train_images[ 1 ].shape = (HEIGHT, WIDTH): (20, 21)\n",
            "\n",
            "type(train_labels[ 1 ]): <class 'int'>\n",
            "train_labels[ 1 ]: 5\n",
            "\n",
            "----------------------------------------\n",
            "\n",
            "type(train_images[ 2 ]): <class 'numpy.ndarray'>\n",
            "train_images[ 2 ].dtype: uint8\n",
            "train_images[ 2 ].min(): 0\n",
            "train_images[ 2 ].max(): 255\n",
            "train_images[ 2 ].shape = (HEIGHT, WIDTH): (10, 15)\n",
            "\n",
            "type(train_labels[ 2 ]): <class 'int'>\n",
            "train_labels[ 2 ]: 0\n",
            "\n",
            "----------------------------------------\n",
            "\n",
            "type(train_images[ 3 ]): <class 'numpy.ndarray'>\n",
            "train_images[ 3 ].dtype: uint8\n",
            "train_images[ 3 ].min(): 0\n",
            "train_images[ 3 ].max(): 255\n",
            "train_images[ 3 ].shape = (HEIGHT, WIDTH): (36, 17)\n",
            "\n",
            "type(train_labels[ 3 ]): <class 'int'>\n",
            "train_labels[ 3 ]: 2\n",
            "\n"
          ]
        },
        {
          "output_type": "display_data",
          "data": {
            "text/plain": [
              "<Figure size 1080x288 with 4 Axes>"
            ],
            "image/png": "[encoded data removed]"
          },
          "metadata": {
            "needs_background": "light"
          }
        }
      ]
    },
    {
      "cell_type": "code",
      "source": [
        "print('################################################################################')\n",
        "print()\n",
        "\n",
        "print('Reading train dataset (Train 60000.cdb)...')\n",
        "x_train, y_train = read_hoda_dataset(dataset_path='Train 60000.cdb',\n",
        "                                images_height=32,\n",
        "                                images_width=32,\n",
        "                                one_hot=False,\n",
        "                                reshape=True)\n",
        "\n",
        "print('Reading test dataset (Test 20000.cdb)...')\n",
        "x_test, y_test = read_hoda_dataset(dataset_path='Test 20000.cdb',\n",
        "                              images_height=32,\n",
        "                              images_width=32,\n",
        "                              one_hot=True,\n",
        "                              reshape=False)\n",
        "print(\"Done\")"
      ],
      "metadata": {
        "colab": {
          "base_uri": "https://localhost:8080/"
        },
        "id": "SKrGXnDzuhpI",
        "outputId": "99600f43-6a50-408e-b2ac-4d8b3779ac52"
      },
      "execution_count": null,
      "outputs": [
        {
          "output_type": "stream",
          "name": "stdout",
          "text": [
            "################################################################################\n",
            "\n",
            "Reading train dataset (Train 60000.cdb)...\n",
            "Reading test dataset (Test 20000.cdb)...\n",
            "Done\n"
          ]
        }
      ]
    },
    {
      "cell_type": "code",
      "source": [
        "image_index = 7777 # You may select anything up to 60,000\n",
        "print(y_train[image_index]) # The label is 7\n",
        "plt.imshow(train_images[image_index], cmap='gray')"
      ],
      "metadata": {
        "colab": {
          "base_uri": "https://localhost:8080/",
          "height": 301
        },
        "id": "oD1l0ngZusEt",
        "outputId": "729c59ea-dc56-41af-d877-31f07f669cf3"
      },
      "execution_count": null,
      "outputs": [
        {
          "output_type": "stream",
          "name": "stdout",
          "text": [
            "7.0\n"
          ]
        },
        {
          "output_type": "execute_result",
          "data": {
            "text/plain": [
              "<matplotlib.image.AxesImage at 0x7f8411821af0>"
            ]
          },
          "metadata": {},
          "execution_count": 5
        },
        {
          "output_type": "display_data",
          "data": {
            "text/plain": [
              "<Figure size 432x288 with 1 Axes>"
            ],
            "image/png": "[encoded data removed]"
          },
          "metadata": {
            "needs_background": "light"
          }
        }
      ]
    },
    {
      "cell_type": "code",
      "source": [
        "# Reshaping the array to 4-dims so that it can work with the Keras API\n",
        "x_train = x_train.reshape(x_train.shape[0], 32, 32, 1)\n",
        "x_test = x_test.reshape(x_test.shape[0], 32, 32, 1)\n",
        "input_shape = (32, 32, 1)\n",
        "# Making sure that the values are float so that we can get decimal points after division\n",
        "x_train = x_train.astype('float32')\n",
        "x_test = x_test.astype('float32')\n",
        "# Normalizing the RGB codes by dividing it to the max RGB value. changing the range from 0-255 to 0-1\n",
        "x_train /= 255\n",
        "x_test /= 255\n",
        "\n",
        "print('x_train shape:', x_train.shape)\n",
        "print('Number of images in x_train', x_train.shape[0])\n",
        "print('Number of images in x_test', x_test.shape[0])"
      ],
      "metadata": {
        "colab": {
          "base_uri": "https://localhost:8080/"
        },
        "id": "ZOnYj1JbuzZv",
        "outputId": "60c91f1f-4402-49e0-8bfe-24f1aea11b55"
      },
      "execution_count": null,
      "outputs": [
        {
          "output_type": "stream",
          "name": "stdout",
          "text": [
            "x_train shape: (60000, 32, 32, 1)\n",
            "Number of images in x_train 60000\n",
            "Number of images in x_test 20000\n"
          ]
        }
      ]
    },
    {
      "cell_type": "code",
      "source": [
        "model = []\n",
        "model.append(Sequential())\n",
        "model.append(Sequential())\n",
        "model.append(Sequential())\n",
        "model.append(Sequential())\n",
        "\n",
        "dropout = [0.1,0.2]\n",
        "for i in range(2):\n",
        "    model[i].add(Conv2D(28, kernel_size=(3,3), input_shape=input_shape))\n",
        "    model[i].add(MaxPooling2D(pool_size=(2, 2)))\n",
        "    model[i].add(Flatten()) # Flattening the 2D arrays for fully connected layers\n",
        "    model[i].add(Dense(128, activation=tf.nn.relu))\n",
        "    model[i].add(Dropout(dropout[i]))\n",
        "    model[i].add(Dense(10,activation=tf.nn.softmax))"
      ],
      "metadata": {
        "id": "4brShcsyvXQ2"
      },
      "execution_count": null,
      "outputs": []
    },
    {
      "cell_type": "code",
      "source": [
        "for i in range(2):\n",
        "    model[i].compile(optimizer='adam', loss='sparse_categorical_crossentropy', metrics=['accuracy'])\n",
        "    model[i].fit(x=x_train,y=y_train, epochs=10)"
      ],
      "metadata": {
        "colab": {
          "base_uri": "https://localhost:8080/"
        },
        "id": "CHc-nqGzwue2",
        "outputId": "1000a705-66cc-4e29-ca4f-02f9b248a0e4"
      },
      "execution_count": null,
      "outputs": [
        {
          "output_type": "stream",
          "name": "stdout",
          "text": [
            "Epoch 1/10\n",
            "1875/1875 [==============================] - 42s 22ms/step - loss: 0.3534 - accuracy: 0.9037\n",
            "Epoch 2/10\n",
            "1875/1875 [==============================] - 41s 22ms/step - loss: 0.0930 - accuracy: 0.9734\n",
            "Epoch 3/10\n",
            "1875/1875 [==============================] - 43s 23ms/step - loss: 0.0595 - accuracy: 0.9828\n",
            "Epoch 4/10\n",
            "1875/1875 [==============================] - 41s 22ms/step - loss: 0.0441 - accuracy: 0.9875\n",
            "Epoch 5/10\n",
            "1875/1875 [==============================] - 43s 23ms/step - loss: 0.0363 - accuracy: 0.9887\n",
            "Epoch 6/10\n",
            "1875/1875 [==============================] - 41s 22ms/step - loss: 0.0310 - accuracy: 0.9902\n",
            "Epoch 7/10\n",
            "1875/1875 [==============================] - 44s 23ms/step - loss: 0.0252 - accuracy: 0.9915\n",
            "Epoch 8/10\n",
            "1875/1875 [==============================] - 43s 23ms/step - loss: 0.0240 - accuracy: 0.9919\n",
            "Epoch 9/10\n",
            "1875/1875 [==============================] - 41s 22ms/step - loss: 0.0208 - accuracy: 0.9932\n",
            "Epoch 10/10\n",
            "1875/1875 [==============================] - 42s 23ms/step - loss: 0.0190 - accuracy: 0.9937\n",
            "Epoch 1/10\n",
            "1875/1875 [==============================] - 44s 23ms/step - loss: 0.3332 - accuracy: 0.9078\n",
            "Epoch 2/10\n",
            "1875/1875 [==============================] - 42s 23ms/step - loss: 0.0972 - accuracy: 0.9719\n",
            "Epoch 3/10\n",
            "1875/1875 [==============================] - 43s 23ms/step - loss: 0.0665 - accuracy: 0.9809\n",
            "Epoch 4/10\n",
            "1875/1875 [==============================] - 42s 22ms/step - loss: 0.0530 - accuracy: 0.9847\n",
            "Epoch 5/10\n",
            "1875/1875 [==============================] - 42s 23ms/step - loss: 0.0442 - accuracy: 0.9869\n",
            "Epoch 6/10\n",
            "1875/1875 [==============================] - 42s 23ms/step - loss: 0.0381 - accuracy: 0.9882\n",
            "Epoch 7/10\n",
            "1875/1875 [==============================] - 41s 22ms/step - loss: 0.0335 - accuracy: 0.9897\n",
            "Epoch 8/10\n",
            "1875/1875 [==============================] - 43s 23ms/step - loss: 0.0309 - accuracy: 0.9904\n",
            "Epoch 9/10\n",
            "1875/1875 [==============================] - 42s 23ms/step - loss: 0.0273 - accuracy: 0.9913\n",
            "Epoch 10/10\n",
            "1875/1875 [==============================] - 42s 23ms/step - loss: 0.0254 - accuracy: 0.9919\n"
          ]
        }
      ]
    },
    {
      "cell_type": "code",
      "source": [],
      "metadata": {
        "id": "VyLIluiF54cY"
      },
      "execution_count": null,
      "outputs": []
    },
    {
      "cell_type": "code",
      "source": [
        "lst = []\n",
        "for i in y_test:\n",
        "    for j in range(10):\n",
        "        if i[j] == 1:\n",
        "            lst.append(j)\n",
        "final_y_test = np.array(lst)"
      ],
      "metadata": {
        "id": "yd9i9Iyox2ax"
      },
      "execution_count": null,
      "outputs": []
    },
    {
      "cell_type": "code",
      "source": [
        "image_index = 12111\n",
        "plt.imshow(x_test[image_index].reshape(32, 32),cmap='Greys')\n",
        "for i in range(2):\n",
        "    pred = model[i].predict(x_test[image_index].reshape(1, 32, 32, 1))\n",
        "    # Maximum probability\n",
        "    print(\"Predicted label:\",pred.argmax(),\"\\nWith the probability of\",pred[0][pred.argmax()])"
      ],
      "metadata": {
        "colab": {
          "base_uri": "https://localhost:8080/",
          "height": 375
        },
        "id": "d_0oY1qOyTcW",
        "outputId": "8061b367-f7d1-4eea-d83e-bf48d57a04b0"
      },
      "execution_count": null,
      "outputs": [
        {
          "output_type": "stream",
          "name": "stdout",
          "text": [
            "1/1 [==============================] - 0s 20ms/step\n",
            "Predicted label: 6 \n",
            "With the probability of 0.99999964\n",
            "1/1 [==============================] - 0s 18ms/step\n",
            "Predicted label: 6 \n",
            "With the probability of 0.9999993\n"
          ]
        },
        {
          "output_type": "display_data",
          "data": {
            "text/plain": [
              "<Figure size 432x288 with 1 Axes>"
            ],
            "image/png": "[encoded data removed]"
          },
          "metadata": {
            "needs_background": "light"
          }
        }
      ]
    },
    {
      "cell_type": "code",
      "source": [
        "y_pred = []\n",
        "for i in range(2):\n",
        "    print(\"Model\",i)\n",
        "    results = model[i].evaluate(x_test,final_y_test,batch_size=128)\n",
        "    y_pred.append(model[i].predict(x_test))\n",
        "    print(\"+++++++++++++++++++++++++++++++++++++++++++++++++++++++\")"
      ],
      "metadata": {
        "colab": {
          "base_uri": "https://localhost:8080/"
        },
        "id": "-jCucyWXyZWW",
        "outputId": "660b622d-9fc6-47f2-b67c-f01fb9fd97e0"
      },
      "execution_count": null,
      "outputs": [
        {
          "output_type": "stream",
          "name": "stdout",
          "text": [
            "Model 0\n",
            "157/157 [==============================] - 4s 23ms/step - loss: 0.0753 - accuracy: 0.9807\n",
            "625/625 [==============================] - 5s 8ms/step\n",
            "+++++++++++++++++++++++++++++++++++++++++++++++++++++++\n",
            "Model 1\n",
            "157/157 [==============================] - 4s 23ms/step - loss: 0.0764 - accuracy: 0.9805\n",
            "625/625 [==============================] - 5s 9ms/step\n",
            "+++++++++++++++++++++++++++++++++++++++++++++++++++++++\n"
          ]
        }
      ]
    },
    {
      "cell_type": "code",
      "source": [
        "for j in range(2):\n",
        "    converted_y_pred = []\n",
        "    for i in y_pred[j]:\n",
        "        converted_y_pred.append(np.argmax(i))\n",
        "    final_y_pred = np.array(converted_y_pred)\n",
        "    print(classification_report(final_y_test,final_y_pred))"
      ],
      "metadata": {
        "colab": {
          "base_uri": "https://localhost:8080/"
        },
        "id": "lc3NpvpTylP2",
        "outputId": "799d4e0f-c529-45c2-86a6-35ea3d541fbc"
      },
      "execution_count": null,
      "outputs": [
        {
          "output_type": "stream",
          "name": "stdout",
          "text": [
            "              precision    recall  f1-score   support\n",
            "\n",
            "           0       0.99      0.99      0.99      2000\n",
            "           1       0.97      1.00      0.99      2000\n",
            "           2       0.97      0.98      0.97      2000\n",
            "           3       0.96      0.96      0.96      2000\n",
            "           4       0.98      0.96      0.97      2000\n",
            "           5       0.99      0.99      0.99      2000\n",
            "           6       0.97      0.99      0.98      2000\n",
            "           7       0.99      0.99      0.99      2000\n",
            "           8       0.99      0.99      0.99      2000\n",
            "           9       0.99      0.96      0.97      2000\n",
            "\n",
            "    accuracy                           0.98     20000\n",
            "   macro avg       0.98      0.98      0.98     20000\n",
            "weighted avg       0.98      0.98      0.98     20000\n",
            "\n",
            "              precision    recall  f1-score   support\n",
            "\n",
            "           0       1.00      0.99      0.99      2000\n",
            "           1       0.98      1.00      0.99      2000\n",
            "           2       0.97      0.97      0.97      2000\n",
            "           3       0.95      0.96      0.96      2000\n",
            "           4       0.98      0.96      0.97      2000\n",
            "           5       0.98      0.98      0.98      2000\n",
            "           6       0.99      0.98      0.98      2000\n",
            "           7       1.00      0.99      0.99      2000\n",
            "           8       0.99      0.99      0.99      2000\n",
            "           9       0.98      0.98      0.98      2000\n",
            "\n",
            "    accuracy                           0.98     20000\n",
            "   macro avg       0.98      0.98      0.98     20000\n",
            "weighted avg       0.98      0.98      0.98     20000\n",
            "\n"
          ]
        }
      ]
    }
  ]
}