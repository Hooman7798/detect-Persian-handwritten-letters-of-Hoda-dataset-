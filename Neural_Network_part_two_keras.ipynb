{
  "nbformat": 4,
  "nbformat_minor": 0,
  "metadata": {
    "colab": {
      "provenance": []
    },
    "kernelspec": {
      "name": "python3",
      "display_name": "Python 3"
    },
    "language_info": {
      "name": "python"
    }
  },
  "cells": [
    {
      "cell_type": "code",
      "execution_count": null,
      "metadata": {
        "colab": {
          "base_uri": "https://localhost:8080/"
        },
        "id": "_Kt9dT0j3FAp",
        "outputId": "76d7b608-17e0-45fc-dc5e-a34dfbfcc355"
      },
      "outputs": [
        {
          "output_type": "stream",
          "name": "stdout",
          "text": [
            "/content/drive/My Drive\n"
          ]
        }
      ],
      "source": [
        "cd /content/drive/My Drive"
      ]
    },
    {
      "cell_type": "code",
      "source": [
        "from google.colab import drive\n",
        "drive.mount('/content/drive')"
      ],
      "metadata": {
        "colab": {
          "base_uri": "https://localhost:8080/"
        },
        "id": "rpjZrdmlRga5",
        "outputId": "5df6d575-9d15-44ee-b71f-c8402ca63cac"
      },
      "execution_count": null,
      "outputs": [
        {
          "output_type": "stream",
          "name": "stdout",
          "text": [
            "Mounted at /content/drive\n"
          ]
        }
      ]
    },
    {
      "cell_type": "code",
      "source": [
        "import cv2\n",
        "import os\n",
        "from skimage.feature import hog\n",
        "import numpy as np\n",
        "from PIL import Image\n",
        "from keras.utils import pad_sequences\n",
        "from sklearn.neural_network import MLPRegressor\n",
        "import tensorflow as tf\n",
        "import matplotlib.pyplot as plt\n",
        "from sklearn.model_selection import train_test_split"
      ],
      "metadata": {
        "id": "FN1eCE4GCvIs"
      },
      "execution_count": null,
      "outputs": []
    },
    {
      "cell_type": "code",
      "source": [
        "def load_images_from_folder(folder):\n",
        "    images = []\n",
        "    for filename in os.listdir(folder):\n",
        "        img = cv2.imread(os.path.join(folder,filename))\n",
        "        images.append(img)\n",
        "    return images"
      ],
      "metadata": {
        "id": "VIVLpNtiCvkV"
      },
      "execution_count": null,
      "outputs": []
    },
    {
      "cell_type": "code",
      "source": [
        "im = load_images_from_folder('Hoda 0-9')"
      ],
      "metadata": {
        "id": "HQK1J6Kv_r4c"
      },
      "execution_count": null,
      "outputs": []
    },
    {
      "cell_type": "code",
      "source": [
        "x = im"
      ],
      "metadata": {
        "id": "XSGlT9DGL8wp"
      },
      "execution_count": null,
      "outputs": []
    },
    {
      "cell_type": "code",
      "source": [
        "len(max(x, key=len))"
      ],
      "metadata": {
        "colab": {
          "base_uri": "https://localhost:8080/"
        },
        "id": "6wAWW8YB2ST-",
        "outputId": "cf945c3c-b76f-48d9-8758-f5a34c0a8b13"
      },
      "execution_count": null,
      "outputs": [
        {
          "output_type": "execute_result",
          "data": {
            "text/plain": [
              "130"
            ]
          },
          "metadata": {},
          "execution_count": 7
        }
      ]
    },
    {
      "cell_type": "code",
      "source": [],
      "metadata": {
        "id": "VXMu5AVGNjxU"
      },
      "execution_count": null,
      "outputs": []
    },
    {
      "cell_type": "code",
      "source": [
        "y = []\n",
        "for i in range(155):\n",
        "  y.append(4)\n",
        "for i in range(170):\n",
        "  y.append(5)\n",
        "for i in range(174):\n",
        "  y.append(6)\n",
        "for i in range(173):\n",
        "  y.append(7)\n",
        "for i in range(169):\n",
        "  y.append(8)\n",
        "for i in range(159):\n",
        "  y.append(9)\n",
        "for i in range(104):\n",
        "  y.append(0)\n",
        "for i in range(102):\n",
        "  y.append(1)\n",
        "for i in range(71):\n",
        "  y.append(0)\n",
        "for i in range(69):\n",
        "  y.append(1)\n",
        "for i in range(163):\n",
        "  y.append(2)\n",
        "for i in range(171):\n",
        "  y.append(3)\n",
        "for i in range(18):\n",
        "  y.append(4)"
      ],
      "metadata": {
        "id": "G8FL22VjEr3N"
      },
      "execution_count": null,
      "outputs": []
    },
    {
      "cell_type": "code",
      "source": [
        "x = np.array(x)\n",
        "y = np.array(y)"
      ],
      "metadata": {
        "colab": {
          "base_uri": "https://localhost:8080/"
        },
        "id": "6f1NSSWrMC_T",
        "outputId": "4ca664ea-fd64-48cb-d408-249b2e19ce76"
      },
      "execution_count": null,
      "outputs": [
        {
          "output_type": "stream",
          "name": "stderr",
          "text": [
            "<ipython-input-9-eab93f439266>:1: VisibleDeprecationWarning: Creating an ndarray from ragged nested sequences (which is a list-or-tuple of lists-or-tuples-or ndarrays with different lengths or shapes) is deprecated. If you meant to do this, you must specify 'dtype=object' when creating the ndarray.\n",
            "  x = np.array(x)\n"
          ]
        }
      ]
    },
    {
      "cell_type": "code",
      "source": [
        "for i in range(1698):\n",
        "  x[i] = pad_sequences(x[i],130)"
      ],
      "metadata": {
        "id": "-C1b5eoUNocn"
      },
      "execution_count": null,
      "outputs": []
    },
    {
      "cell_type": "code",
      "source": [
        "x = pad_sequences(x,130)"
      ],
      "metadata": {
        "id": "v4pvwnSUMaK5"
      },
      "execution_count": null,
      "outputs": []
    },
    {
      "cell_type": "code",
      "source": [
        "x.shape"
      ],
      "metadata": {
        "colab": {
          "base_uri": "https://localhost:8080/"
        },
        "id": "tq1eYfRoMGYe",
        "outputId": "37125b32-765a-4c7c-e729-192f86af4b4e"
      },
      "execution_count": null,
      "outputs": [
        {
          "output_type": "execute_result",
          "data": {
            "text/plain": [
              "(1698, 130, 130, 3)"
            ]
          },
          "metadata": {},
          "execution_count": 12
        }
      ]
    },
    {
      "cell_type": "code",
      "source": [
        "x = x[:, :, :, 0]"
      ],
      "metadata": {
        "id": "H-wo2ksRN90Q"
      },
      "execution_count": null,
      "outputs": []
    },
    {
      "cell_type": "code",
      "source": [
        "x.shape"
      ],
      "metadata": {
        "colab": {
          "base_uri": "https://localhost:8080/"
        },
        "id": "nvyCIhGhN_y3",
        "outputId": "3d82e5f2-e228-42ee-c070-535e7cc6f1dc"
      },
      "execution_count": null,
      "outputs": [
        {
          "output_type": "execute_result",
          "data": {
            "text/plain": [
              "(1698, 130, 130)"
            ]
          },
          "metadata": {},
          "execution_count": 14
        }
      ]
    },
    {
      "cell_type": "code",
      "source": [
        "y.shape"
      ],
      "metadata": {
        "colab": {
          "base_uri": "https://localhost:8080/"
        },
        "id": "aFvrBsleMXXH",
        "outputId": "1aa26c6e-4b22-4418-904a-6d08e9e71df7"
      },
      "execution_count": null,
      "outputs": [
        {
          "output_type": "execute_result",
          "data": {
            "text/plain": [
              "(1698,)"
            ]
          },
          "metadata": {},
          "execution_count": 15
        }
      ]
    },
    {
      "cell_type": "code",
      "source": [
        "print(y[900]) \n",
        "plt.imshow(x[900], cmap='gray')"
      ],
      "metadata": {
        "colab": {
          "base_uri": "https://localhost:8080/",
          "height": 305
        },
        "id": "0sN2UnooA_yd",
        "outputId": "07c59efa-9fa9-440b-b492-291cb4a404c9"
      },
      "execution_count": null,
      "outputs": [
        {
          "output_type": "stream",
          "name": "stdout",
          "text": [
            "9\n"
          ]
        },
        {
          "output_type": "execute_result",
          "data": {
            "text/plain": [
              "<matplotlib.image.AxesImage at 0x7f7522f450a0>"
            ]
          },
          "metadata": {},
          "execution_count": 16
        },
        {
          "output_type": "display_data",
          "data": {
            "text/plain": [
              "<Figure size 432x288 with 1 Axes>"
            ],
            "image/png": "[encoded data removed]"
          },
          "metadata": {
            "needs_background": "light"
          }
        }
      ]
    },
    {
      "cell_type": "code",
      "source": [
        "x_train, x_test, y_train, y_test = train_test_split(x,y, stratify=y, test_size=0.2, random_state=None)"
      ],
      "metadata": {
        "id": "CKSZ1AbMBW7N"
      },
      "execution_count": null,
      "outputs": []
    },
    {
      "cell_type": "code",
      "source": [
        "len(x_train)"
      ],
      "metadata": {
        "colab": {
          "base_uri": "https://localhost:8080/"
        },
        "id": "mtgsdi3RGBdZ",
        "outputId": "4480212b-b86e-49cb-bc79-49d6486da13e"
      },
      "execution_count": null,
      "outputs": [
        {
          "output_type": "execute_result",
          "data": {
            "text/plain": [
              "1358"
            ]
          },
          "metadata": {},
          "execution_count": 18
        }
      ]
    },
    {
      "cell_type": "code",
      "source": [
        "len(y_train)"
      ],
      "metadata": {
        "colab": {
          "base_uri": "https://localhost:8080/"
        },
        "id": "vAyHNdzxOMbM",
        "outputId": "8ba11356-cae1-48ac-ca97-06e89ef97e72"
      },
      "execution_count": null,
      "outputs": [
        {
          "output_type": "execute_result",
          "data": {
            "text/plain": [
              "1358"
            ]
          },
          "metadata": {},
          "execution_count": 19
        }
      ]
    },
    {
      "cell_type": "code",
      "source": [
        "# Reshaping the array to 4-dims so that it can work with the Keras API\n",
        "x_train = x_train.reshape(x_train.shape[0], 130, 130, 1)\n",
        "x_test = x_test.reshape(x_test.shape[0], 130, 130, 1)\n",
        "input_shape = (130, 130, 1)\n",
        "# Making sure that the values are float so that we can get decimal points after division\n",
        "x_train = x_train.astype('float32')\n",
        "x_test = x_test.astype('float32')\n",
        "# Normalizing the RGB codes by dividing it to the max RGB value. changing the range from 0-255 to 0-1\n",
        "x_train /= 255\n",
        "x_test /= 255\n",
        "\n",
        "print('x_train shape:', x_train.shape)\n",
        "print('Number of images in x_train', x_train.shape[0])\n",
        "print('Number of images in x_test', x_test.shape[0])"
      ],
      "metadata": {
        "colab": {
          "base_uri": "https://localhost:8080/"
        },
        "id": "Xk-oPlsgOlcy",
        "outputId": "f5d994f6-c862-4500-ac1c-0e5b2c3cd9d3"
      },
      "execution_count": null,
      "outputs": [
        {
          "output_type": "stream",
          "name": "stdout",
          "text": [
            "x_train shape: (1358, 130, 130, 1)\n",
            "Number of images in x_train 1358\n",
            "Number of images in x_test 340\n"
          ]
        }
      ]
    },
    {
      "cell_type": "code",
      "source": [
        "from keras.models import Sequential\n",
        "from keras.layers import Dense\n",
        "from keras.layers import Dropout\n",
        "from keras.utils import np_utils\n",
        "from sklearn.metrics import classification_report\n",
        "import matplotlib.pyplot as plt\n",
        "import tensorflow as tf\n",
        "import tensorflow as tf\n",
        "from tensorflow.keras.models import Sequential\n",
        "from tensorflow.keras.layers import Dense, Conv2D, Dropout, Flatten, MaxPooling2D\n",
        "from sklearn.metrics import classification_report\n",
        "import random\n",
        "import numpy as np"
      ],
      "metadata": {
        "id": "0406kRq9F058"
      },
      "execution_count": null,
      "outputs": []
    },
    {
      "cell_type": "code",
      "source": [
        "model = []\n",
        "model.append(Sequential())\n",
        "model.append(Sequential())\n",
        "model.append(Sequential())\n",
        "model.append(Sequential())\n",
        "\n",
        "dropout = [0.1,0.2]\n",
        "for i in range(2):\n",
        "    model[i].add(Conv2D(28, kernel_size=(3,3), input_shape=input_shape))\n",
        "    model[i].add(MaxPooling2D(pool_size=(2, 2)))\n",
        "    model[i].add(Flatten()) # Flattening the 2D arrays for fully connected layers\n",
        "    model[i].add(Dense(128, activation=tf.nn.relu))\n",
        "    model[i].add(Dropout(dropout[i]))\n",
        "    model[i].add(Dense(10,activation=tf.nn.softmax))"
      ],
      "metadata": {
        "id": "ZnrcOM-yO3Zr"
      },
      "execution_count": null,
      "outputs": []
    },
    {
      "cell_type": "code",
      "source": [
        "for i in range(2):\n",
        "    model[i].compile(optimizer='adam', loss='sparse_categorical_crossentropy', metrics=['accuracy'])\n",
        "    model[i].fit(x=x_train,y=y_train, epochs=10)"
      ],
      "metadata": {
        "colab": {
          "base_uri": "https://localhost:8080/"
        },
        "id": "33wn5bQNO9rI",
        "outputId": "6ddfa16f-190a-4436-bc65-1302d9baba8d"
      },
      "execution_count": null,
      "outputs": [
        {
          "output_type": "stream",
          "name": "stdout",
          "text": [
            "Epoch 1/10\n",
            "43/43 [==============================] - 10s 220ms/step - loss: 2.0135 - accuracy: 0.3984\n",
            "Epoch 2/10\n",
            "43/43 [==============================] - 9s 217ms/step - loss: 0.9670 - accuracy: 0.6708\n",
            "Epoch 3/10\n",
            "43/43 [==============================] - 9s 220ms/step - loss: 0.6215 - accuracy: 0.7842\n",
            "Epoch 4/10\n",
            "43/43 [==============================] - 9s 217ms/step - loss: 0.4369 - accuracy: 0.8682\n",
            "Epoch 5/10\n",
            "43/43 [==============================] - 9s 218ms/step - loss: 0.2939 - accuracy: 0.9197\n",
            "Epoch 6/10\n",
            "43/43 [==============================] - 9s 218ms/step - loss: 0.1906 - accuracy: 0.9507\n",
            "Epoch 7/10\n",
            "43/43 [==============================] - 9s 218ms/step - loss: 0.1359 - accuracy: 0.9691\n",
            "Epoch 8/10\n",
            "43/43 [==============================] - 9s 218ms/step - loss: 0.0997 - accuracy: 0.9831\n",
            "Epoch 9/10\n",
            "43/43 [==============================] - 9s 216ms/step - loss: 0.0693 - accuracy: 0.9882\n",
            "Epoch 10/10\n",
            "43/43 [==============================] - 9s 218ms/step - loss: 0.0549 - accuracy: 0.9919\n",
            "Epoch 1/10\n",
            "43/43 [==============================] - 10s 218ms/step - loss: 2.1444 - accuracy: 0.3159\n",
            "Epoch 2/10\n",
            "43/43 [==============================] - 9s 217ms/step - loss: 1.1222 - accuracy: 0.6046\n",
            "Epoch 3/10\n",
            "43/43 [==============================] - 9s 217ms/step - loss: 0.8118 - accuracy: 0.7216\n",
            "Epoch 4/10\n",
            "43/43 [==============================] - 9s 220ms/step - loss: 0.5428 - accuracy: 0.8144\n",
            "Epoch 5/10\n",
            "43/43 [==============================] - 9s 216ms/step - loss: 0.3861 - accuracy: 0.8792\n",
            "Epoch 6/10\n",
            "43/43 [==============================] - 9s 218ms/step - loss: 0.2682 - accuracy: 0.9205\n",
            "Epoch 7/10\n",
            "43/43 [==============================] - 9s 219ms/step - loss: 0.1842 - accuracy: 0.9499\n",
            "Epoch 8/10\n",
            "43/43 [==============================] - 9s 217ms/step - loss: 0.1411 - accuracy: 0.9661\n",
            "Epoch 9/10\n",
            "43/43 [==============================] - 9s 220ms/step - loss: 0.1006 - accuracy: 0.9779\n",
            "Epoch 10/10\n",
            "43/43 [==============================] - 9s 218ms/step - loss: 0.0921 - accuracy: 0.9823\n"
          ]
        }
      ]
    },
    {
      "cell_type": "code",
      "source": [
        "y_test"
      ],
      "metadata": {
        "id": "_7OOIQiYRADN",
        "colab": {
          "base_uri": "https://localhost:8080/"
        },
        "outputId": "c7580ea7-1f3b-4df0-f2d1-9359281c10eb"
      },
      "execution_count": null,
      "outputs": [
        {
          "output_type": "execute_result",
          "data": {
            "text/plain": [
              "array([3, 4, 1, 2, 6, 4, 7, 1, 9, 9, 0, 1, 4, 4, 0, 8, 7, 1, 7, 3, 2, 8,\n",
              "       0, 2, 8, 0, 4, 3, 5, 5, 0, 8, 5, 3, 7, 8, 3, 8, 1, 5, 9, 1, 6, 8,\n",
              "       7, 1, 3, 4, 4, 3, 9, 5, 2, 8, 4, 2, 4, 0, 0, 9, 6, 7, 5, 3, 0, 5,\n",
              "       0, 6, 5, 6, 2, 9, 6, 1, 7, 0, 5, 1, 3, 5, 3, 8, 6, 2, 5, 9, 2, 8,\n",
              "       4, 6, 9, 8, 4, 4, 6, 1, 9, 5, 7, 2, 4, 8, 7, 7, 8, 6, 5, 9, 9, 9,\n",
              "       3, 5, 0, 6, 1, 9, 5, 6, 4, 3, 2, 1, 6, 7, 6, 1, 6, 1, 0, 6, 9, 3,\n",
              "       4, 6, 4, 8, 4, 8, 5, 0, 5, 4, 6, 9, 7, 9, 7, 5, 1, 7, 3, 2, 4, 4,\n",
              "       9, 7, 1, 4, 9, 7, 1, 3, 0, 3, 0, 5, 3, 6, 8, 0, 1, 8, 6, 9, 4, 3,\n",
              "       8, 7, 5, 9, 9, 0, 7, 6, 2, 4, 2, 7, 8, 0, 3, 7, 9, 2, 4, 7, 4, 5,\n",
              "       7, 1, 1, 3, 8, 5, 4, 5, 8, 6, 6, 0, 3, 4, 9, 6, 2, 1, 0, 8, 1, 3,\n",
              "       8, 5, 2, 1, 2, 0, 7, 0, 2, 6, 0, 4, 1, 4, 8, 6, 8, 3, 9, 7, 3, 8,\n",
              "       9, 0, 9, 5, 6, 6, 2, 0, 6, 1, 3, 7, 7, 9, 5, 6, 8, 7, 1, 8, 8, 4,\n",
              "       1, 2, 5, 1, 7, 3, 3, 9, 5, 9, 8, 1, 3, 0, 0, 5, 3, 9, 1, 6, 2, 2,\n",
              "       7, 0, 3, 8, 3, 5, 5, 2, 4, 0, 8, 5, 0, 3, 6, 9, 2, 0, 3, 5, 6, 4,\n",
              "       8, 0, 2, 5, 0, 4, 7, 4, 1, 0, 0, 3, 7, 2, 1, 2, 1, 7, 7, 6, 8, 7,\n",
              "       4, 2, 6, 2, 9, 2, 1, 2, 7, 2])"
            ]
          },
          "metadata": {},
          "execution_count": 24
        }
      ]
    },
    {
      "cell_type": "code",
      "source": [
        "image_index = 6\n",
        "plt.imshow(x_test[6].reshape(130, 130),cmap='Greys')\n",
        "for i in range(2):\n",
        "    pred = model[i].predict(x_test[image_index].reshape(1, 130, 130, 1))\n",
        "    # Maximum probability\n",
        "    print(\"Predicted label:\",pred.argmax(),\"\\nWith the probability of\",pred[0][pred.argmax()])"
      ],
      "metadata": {
        "colab": {
          "base_uri": "https://localhost:8080/",
          "height": 378
        },
        "id": "tmz19QihRFV5",
        "outputId": "eb8590d2-803a-47f4-c81e-475a09891b3c"
      },
      "execution_count": null,
      "outputs": [
        {
          "output_type": "stream",
          "name": "stdout",
          "text": [
            "1/1 [==============================] - 0s 81ms/step\n",
            "Predicted label: 7 \n",
            "With the probability of 0.999079\n",
            "1/1 [==============================] - 0s 48ms/step\n",
            "Predicted label: 7 \n",
            "With the probability of 0.99874747\n"
          ]
        },
        {
          "output_type": "display_data",
          "data": {
            "text/plain": [
              "<Figure size 432x288 with 1 Axes>"
            ],
            "image/png": "[encoded data removed]"
          },
          "metadata": {
            "needs_background": "light"
          }
        }
      ]
    }
  ]
}